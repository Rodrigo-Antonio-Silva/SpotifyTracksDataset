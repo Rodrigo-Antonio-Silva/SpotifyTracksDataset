{
 "cells": [
  {
   "cell_type": "markdown",
   "id": "7d7b8b8c-1762-4009-bcc3-8c2c68fb61aa",
   "metadata": {},
   "source": [
    "# Analise de dados do Dataset Spotify 🎹"
   ]
  },
  {
   "cell_type": "markdown",
   "id": "52e15e85-286b-493f-bab2-0935735f95f2",
   "metadata": {},
   "source": [
    "## Objetivo do projeto:🎯"
   ]
  },
  {
   "cell_type": "markdown",
   "id": "16891abe-7f60-4aec-9ae6-a272220d86da",
   "metadata": {},
   "source": [
    "Este notebook tem o objetivo criar um modelo de classificação de músicas para rotulá-las como lenta os agitada, utilizando a base de dados \"Spotify Tracks Dataset\" do Kaggle.\n",
    "O link para base de dados e mais detalhes se encontra em: https://www.kaggle.com/datasets/maharshipandya/-spotify-tracks-dataset"
   ]
  },
  {
   "cell_type": "code",
   "execution_count": 4,
   "id": "ff82edcc-e530-4fc0-97ad-775606608f4a",
   "metadata": {},
   "outputs": [],
   "source": [
    "# importando a biblioteca Pandas\n",
    "import pandas as pd"
   ]
  },
  {
   "cell_type": "code",
   "execution_count": 5,
   "id": "bd7a601f-6b19-49ee-b48d-75942702f125",
   "metadata": {},
   "outputs": [],
   "source": [
    "# lendo o dataset\n",
    "pd.set_option('display.max_columns', None)\n",
    "df = pd.read_csv('dataset.csv.zip')"
   ]
  },
  {
   "cell_type": "code",
   "execution_count": 6,
   "id": "c8d9b812-fb88-4798-a006-25374dfe7914",
   "metadata": {},
   "outputs": [
    {
     "data": {
      "text/html": [
       "<div>\n",
       "<style scoped>\n",
       "    .dataframe tbody tr th:only-of-type {\n",
       "        vertical-align: middle;\n",
       "    }\n",
       "\n",
       "    .dataframe tbody tr th {\n",
       "        vertical-align: top;\n",
       "    }\n",
       "\n",
       "    .dataframe thead th {\n",
       "        text-align: right;\n",
       "    }\n",
       "</style>\n",
       "<table border=\"1\" class=\"dataframe\">\n",
       "  <thead>\n",
       "    <tr style=\"text-align: right;\">\n",
       "      <th></th>\n",
       "      <th>Unnamed: 0</th>\n",
       "      <th>track_id</th>\n",
       "      <th>artists</th>\n",
       "      <th>album_name</th>\n",
       "      <th>track_name</th>\n",
       "      <th>popularity</th>\n",
       "      <th>duration_ms</th>\n",
       "      <th>explicit</th>\n",
       "      <th>danceability</th>\n",
       "      <th>energy</th>\n",
       "      <th>key</th>\n",
       "      <th>loudness</th>\n",
       "      <th>mode</th>\n",
       "      <th>speechiness</th>\n",
       "      <th>acousticness</th>\n",
       "      <th>instrumentalness</th>\n",
       "      <th>liveness</th>\n",
       "      <th>valence</th>\n",
       "      <th>tempo</th>\n",
       "      <th>time_signature</th>\n",
       "      <th>track_genre</th>\n",
       "    </tr>\n",
       "  </thead>\n",
       "  <tbody>\n",
       "    <tr>\n",
       "      <th>0</th>\n",
       "      <td>0</td>\n",
       "      <td>5SuOikwiRyPMVoIQDJUgSV</td>\n",
       "      <td>Gen Hoshino</td>\n",
       "      <td>Comedy</td>\n",
       "      <td>Comedy</td>\n",
       "      <td>73</td>\n",
       "      <td>230666</td>\n",
       "      <td>False</td>\n",
       "      <td>0.676</td>\n",
       "      <td>0.4610</td>\n",
       "      <td>1</td>\n",
       "      <td>-6.746</td>\n",
       "      <td>0</td>\n",
       "      <td>0.1430</td>\n",
       "      <td>0.0322</td>\n",
       "      <td>0.000001</td>\n",
       "      <td>0.3580</td>\n",
       "      <td>0.715</td>\n",
       "      <td>87.917</td>\n",
       "      <td>4</td>\n",
       "      <td>acoustic</td>\n",
       "    </tr>\n",
       "    <tr>\n",
       "      <th>1</th>\n",
       "      <td>1</td>\n",
       "      <td>4qPNDBW1i3p13qLCt0Ki3A</td>\n",
       "      <td>Ben Woodward</td>\n",
       "      <td>Ghost (Acoustic)</td>\n",
       "      <td>Ghost - Acoustic</td>\n",
       "      <td>55</td>\n",
       "      <td>149610</td>\n",
       "      <td>False</td>\n",
       "      <td>0.420</td>\n",
       "      <td>0.1660</td>\n",
       "      <td>1</td>\n",
       "      <td>-17.235</td>\n",
       "      <td>1</td>\n",
       "      <td>0.0763</td>\n",
       "      <td>0.9240</td>\n",
       "      <td>0.000006</td>\n",
       "      <td>0.1010</td>\n",
       "      <td>0.267</td>\n",
       "      <td>77.489</td>\n",
       "      <td>4</td>\n",
       "      <td>acoustic</td>\n",
       "    </tr>\n",
       "    <tr>\n",
       "      <th>2</th>\n",
       "      <td>2</td>\n",
       "      <td>1iJBSr7s7jYXzM8EGcbK5b</td>\n",
       "      <td>Ingrid Michaelson;ZAYN</td>\n",
       "      <td>To Begin Again</td>\n",
       "      <td>To Begin Again</td>\n",
       "      <td>57</td>\n",
       "      <td>210826</td>\n",
       "      <td>False</td>\n",
       "      <td>0.438</td>\n",
       "      <td>0.3590</td>\n",
       "      <td>0</td>\n",
       "      <td>-9.734</td>\n",
       "      <td>1</td>\n",
       "      <td>0.0557</td>\n",
       "      <td>0.2100</td>\n",
       "      <td>0.000000</td>\n",
       "      <td>0.1170</td>\n",
       "      <td>0.120</td>\n",
       "      <td>76.332</td>\n",
       "      <td>4</td>\n",
       "      <td>acoustic</td>\n",
       "    </tr>\n",
       "    <tr>\n",
       "      <th>3</th>\n",
       "      <td>3</td>\n",
       "      <td>6lfxq3CG4xtTiEg7opyCyx</td>\n",
       "      <td>Kina Grannis</td>\n",
       "      <td>Crazy Rich Asians (Original Motion Picture Sou...</td>\n",
       "      <td>Can't Help Falling In Love</td>\n",
       "      <td>71</td>\n",
       "      <td>201933</td>\n",
       "      <td>False</td>\n",
       "      <td>0.266</td>\n",
       "      <td>0.0596</td>\n",
       "      <td>0</td>\n",
       "      <td>-18.515</td>\n",
       "      <td>1</td>\n",
       "      <td>0.0363</td>\n",
       "      <td>0.9050</td>\n",
       "      <td>0.000071</td>\n",
       "      <td>0.1320</td>\n",
       "      <td>0.143</td>\n",
       "      <td>181.740</td>\n",
       "      <td>3</td>\n",
       "      <td>acoustic</td>\n",
       "    </tr>\n",
       "    <tr>\n",
       "      <th>4</th>\n",
       "      <td>4</td>\n",
       "      <td>5vjLSffimiIP26QG5WcN2K</td>\n",
       "      <td>Chord Overstreet</td>\n",
       "      <td>Hold On</td>\n",
       "      <td>Hold On</td>\n",
       "      <td>82</td>\n",
       "      <td>198853</td>\n",
       "      <td>False</td>\n",
       "      <td>0.618</td>\n",
       "      <td>0.4430</td>\n",
       "      <td>2</td>\n",
       "      <td>-9.681</td>\n",
       "      <td>1</td>\n",
       "      <td>0.0526</td>\n",
       "      <td>0.4690</td>\n",
       "      <td>0.000000</td>\n",
       "      <td>0.0829</td>\n",
       "      <td>0.167</td>\n",
       "      <td>119.949</td>\n",
       "      <td>4</td>\n",
       "      <td>acoustic</td>\n",
       "    </tr>\n",
       "  </tbody>\n",
       "</table>\n",
       "</div>"
      ],
      "text/plain": [
       "   Unnamed: 0                track_id                 artists  \\\n",
       "0           0  5SuOikwiRyPMVoIQDJUgSV             Gen Hoshino   \n",
       "1           1  4qPNDBW1i3p13qLCt0Ki3A            Ben Woodward   \n",
       "2           2  1iJBSr7s7jYXzM8EGcbK5b  Ingrid Michaelson;ZAYN   \n",
       "3           3  6lfxq3CG4xtTiEg7opyCyx            Kina Grannis   \n",
       "4           4  5vjLSffimiIP26QG5WcN2K        Chord Overstreet   \n",
       "\n",
       "                                          album_name  \\\n",
       "0                                             Comedy   \n",
       "1                                   Ghost (Acoustic)   \n",
       "2                                     To Begin Again   \n",
       "3  Crazy Rich Asians (Original Motion Picture Sou...   \n",
       "4                                            Hold On   \n",
       "\n",
       "                   track_name  popularity  duration_ms  explicit  \\\n",
       "0                      Comedy          73       230666     False   \n",
       "1            Ghost - Acoustic          55       149610     False   \n",
       "2              To Begin Again          57       210826     False   \n",
       "3  Can't Help Falling In Love          71       201933     False   \n",
       "4                     Hold On          82       198853     False   \n",
       "\n",
       "   danceability  energy  key  loudness  mode  speechiness  acousticness  \\\n",
       "0         0.676  0.4610    1    -6.746     0       0.1430        0.0322   \n",
       "1         0.420  0.1660    1   -17.235     1       0.0763        0.9240   \n",
       "2         0.438  0.3590    0    -9.734     1       0.0557        0.2100   \n",
       "3         0.266  0.0596    0   -18.515     1       0.0363        0.9050   \n",
       "4         0.618  0.4430    2    -9.681     1       0.0526        0.4690   \n",
       "\n",
       "   instrumentalness  liveness  valence    tempo  time_signature track_genre  \n",
       "0          0.000001    0.3580    0.715   87.917               4    acoustic  \n",
       "1          0.000006    0.1010    0.267   77.489               4    acoustic  \n",
       "2          0.000000    0.1170    0.120   76.332               4    acoustic  \n",
       "3          0.000071    0.1320    0.143  181.740               3    acoustic  \n",
       "4          0.000000    0.0829    0.167  119.949               4    acoustic  "
      ]
     },
     "execution_count": 6,
     "metadata": {},
     "output_type": "execute_result"
    }
   ],
   "source": [
    "# visualizando os dados\n",
    "df.head()"
   ]
  },
  {
   "cell_type": "code",
   "execution_count": 7,
   "id": "60b0c2e4-760c-4cb4-a37a-2569b264c0fd",
   "metadata": {},
   "outputs": [
    {
     "data": {
      "text/plain": [
       "Index(['Unnamed: 0', 'track_id', 'artists', 'album_name', 'track_name',\n",
       "       'popularity', 'duration_ms', 'explicit', 'danceability', 'energy',\n",
       "       'key', 'loudness', 'mode', 'speechiness', 'acousticness',\n",
       "       'instrumentalness', 'liveness', 'valence', 'tempo', 'time_signature',\n",
       "       'track_genre'],\n",
       "      dtype='object')"
      ]
     },
     "execution_count": 7,
     "metadata": {},
     "output_type": "execute_result"
    }
   ],
   "source": [
    "# verificando as colunas\n",
    "df.columns"
   ]
  },
  {
   "cell_type": "code",
   "execution_count": 367,
   "id": "4bc293e2-eea8-451d-9728-e8e97aef4ba1",
   "metadata": {},
   "outputs": [],
   "source": [
    "# criando a variável target\n",
    "df['target'] = df['valence'].apply(lambda x: 'agitada' if x > 0.5 else 'lenta')"
   ]
  },
  {
   "cell_type": "code",
   "execution_count": 8,
   "id": "09bde63b-7687-4a1a-9bad-031940330337",
   "metadata": {},
   "outputs": [],
   "source": [
    "# criando um novo dataset com as colunas selecionadas\n",
    "data = df.copy()\n",
    "data = data.drop(['Unnamed: 0', 'track_id', 'album_name'], axis=1)"
   ]
  },
  {
   "cell_type": "code",
   "execution_count": 9,
   "id": "00e1f032-ea13-4e30-9426-ed29e3f7a850",
   "metadata": {},
   "outputs": [
    {
     "name": "stdout",
     "output_type": "stream",
     "text": [
      "<class 'pandas.core.frame.DataFrame'>\n",
      "RangeIndex: 114000 entries, 0 to 113999\n",
      "Data columns (total 18 columns):\n",
      " #   Column            Non-Null Count   Dtype  \n",
      "---  ------            --------------   -----  \n",
      " 0   artists           113999 non-null  object \n",
      " 1   track_name        113999 non-null  object \n",
      " 2   popularity        114000 non-null  int64  \n",
      " 3   duration_ms       114000 non-null  int64  \n",
      " 4   explicit          114000 non-null  bool   \n",
      " 5   danceability      114000 non-null  float64\n",
      " 6   energy            114000 non-null  float64\n",
      " 7   key               114000 non-null  int64  \n",
      " 8   loudness          114000 non-null  float64\n",
      " 9   mode              114000 non-null  int64  \n",
      " 10  speechiness       114000 non-null  float64\n",
      " 11  acousticness      114000 non-null  float64\n",
      " 12  instrumentalness  114000 non-null  float64\n",
      " 13  liveness          114000 non-null  float64\n",
      " 14  valence           114000 non-null  float64\n",
      " 15  tempo             114000 non-null  float64\n",
      " 16  time_signature    114000 non-null  int64  \n",
      " 17  track_genre       114000 non-null  object \n",
      "dtypes: bool(1), float64(9), int64(5), object(3)\n",
      "memory usage: 14.9+ MB\n"
     ]
    }
   ],
   "source": [
    "# verificando informações gerais do dataset\n",
    "data.info()"
   ]
  },
  {
   "cell_type": "code",
   "execution_count": 10,
   "id": "aba4d7c8-1baf-4d46-9adf-bef11f644b95",
   "metadata": {},
   "outputs": [
    {
     "name": "stdout",
     "output_type": "stream",
     "text": [
      "A coluna artists tem 1 dados faltantes.\n",
      "A coluna track_name tem 1 dados faltantes.\n",
      "A coluna popularity tem 0 dados faltantes.\n",
      "A coluna duration_ms tem 0 dados faltantes.\n",
      "A coluna explicit tem 0 dados faltantes.\n",
      "A coluna danceability tem 0 dados faltantes.\n",
      "A coluna energy tem 0 dados faltantes.\n",
      "A coluna key tem 0 dados faltantes.\n",
      "A coluna loudness tem 0 dados faltantes.\n",
      "A coluna mode tem 0 dados faltantes.\n",
      "A coluna speechiness tem 0 dados faltantes.\n",
      "A coluna acousticness tem 0 dados faltantes.\n",
      "A coluna instrumentalness tem 0 dados faltantes.\n",
      "A coluna liveness tem 0 dados faltantes.\n",
      "A coluna valence tem 0 dados faltantes.\n",
      "A coluna tempo tem 0 dados faltantes.\n",
      "A coluna time_signature tem 0 dados faltantes.\n",
      "A coluna track_genre tem 0 dados faltantes.\n"
     ]
    }
   ],
   "source": [
    "# checando itens faltantes\n",
    "for col in data.columns.tolist():\n",
    "    print(f'A coluna {col} tem {data[col].isnull().sum()} dados faltantes.')"
   ]
  },
  {
   "cell_type": "code",
   "execution_count": 11,
   "id": "36c062fe-a3eb-4a23-9af5-925af2be6bec",
   "metadata": {},
   "outputs": [],
   "source": [
    "# eliminando a linha com dados faltantes\n",
    "data.dropna(axis= 0, inplace=True)"
   ]
  },
  {
   "cell_type": "markdown",
   "id": "58a1590d-63be-4acc-ad37-9b1fa9a9d11a",
   "metadata": {},
   "source": [
    "# Verificando estatísticas gerais 📈\n",
    "data.describe()"
   ]
  },
  {
   "cell_type": "code",
   "execution_count": 13,
   "id": "8a246da2-2cd0-44df-b85f-e546c54cae48",
   "metadata": {},
   "outputs": [
    {
     "data": {
      "text/plain": [
       "(113999, 18)"
      ]
     },
     "execution_count": 13,
     "metadata": {},
     "output_type": "execute_result"
    }
   ],
   "source": [
    "# Forma do dataset\n",
    "data.shape"
   ]
  },
  {
   "cell_type": "markdown",
   "id": "66716200-0b14-449e-8423-e11c694973c5",
   "metadata": {},
   "source": [
    "## Criando a variável target 🎯"
   ]
  },
  {
   "cell_type": "markdown",
   "id": "156e8b7e-bb1d-43a1-9363-de6caf6b2352",
   "metadata": {},
   "source": [
    "Utilizaremos a coluna \"valence\" como target para definir a classificação. Músicas com mais valência tentem a ser mais positivas enquanto, músicas com menos valência tentem as serem mais negativas."
   ]
  },
  {
   "cell_type": "code",
   "execution_count": 16,
   "id": "2888b7a0-1147-40ab-9bb6-cf9ed0adcec3",
   "metadata": {},
   "outputs": [],
   "source": [
    "# importando bibliotecas de visualização\n",
    "# !pip install matplotlib==3.7.3"
   ]
  },
  {
   "cell_type": "code",
   "execution_count": 17,
   "id": "ffe9497e-6322-4fe6-bae7-53f1a3a1c009",
   "metadata": {},
   "outputs": [],
   "source": [
    "import matplotlib.pyplot as plt"
   ]
  },
  {
   "cell_type": "markdown",
   "id": "e4acd8d0-cf0d-4505-9826-d0ed4002559e",
   "metadata": {},
   "source": [
    "## Feature Engineering 🛠️"
   ]
  },
  {
   "cell_type": "code",
   "execution_count": 19,
   "id": "cfaf8bc6-08e3-4234-950a-6c4fc46273f3",
   "metadata": {},
   "outputs": [
    {
     "data": {
      "image/png": "[encoded data removed]",
      "text/plain": [
       "<Figure size 432x288 with 1 Axes>"
      ]
     },
     "metadata": {
      "needs_background": "light"
     },
     "output_type": "display_data"
    }
   ],
   "source": [
    "# visualizando a varável target\n",
    "plt.figsize=(6, 6)\n",
    "\n",
    "plt.hist(data= data, x='valence', bins=10, edgecolor='black')\n",
    "plt.title('Distribuição da Valência')\n",
    "plt.xlabel('Valência')\n",
    "plt.ylabel('Frequência')\n",
    "plt.show()"
   ]
  },
  {
   "cell_type": "code",
   "execution_count": 21,
   "id": "28d036e0-cc4e-4a99-a7cd-6e2ca576ac28",
   "metadata": {},
   "outputs": [],
   "source": [
    "# Excluindo a coluna valence que originou o target\n",
    "data.drop('valence', axis=1, inplace=True)"
   ]
  },
  {
   "cell_type": "code",
   "execution_count": 22,
   "id": "14fb52e3-9656-45a7-8d73-1982b1fdf152",
   "metadata": {},
   "outputs": [
    {
     "data": {
      "text/html": [
       "<div>\n",
       "<style scoped>\n",
       "    .dataframe tbody tr th:only-of-type {\n",
       "        vertical-align: middle;\n",
       "    }\n",
       "\n",
       "    .dataframe tbody tr th {\n",
       "        vertical-align: top;\n",
       "    }\n",
       "\n",
       "    .dataframe thead th {\n",
       "        text-align: right;\n",
       "    }\n",
       "</style>\n",
       "<table border=\"1\" class=\"dataframe\">\n",
       "  <thead>\n",
       "    <tr style=\"text-align: right;\">\n",
       "      <th></th>\n",
       "      <th>artists</th>\n",
       "      <th>track_name</th>\n",
       "      <th>popularity</th>\n",
       "      <th>duration_ms</th>\n",
       "      <th>explicit</th>\n",
       "      <th>danceability</th>\n",
       "      <th>energy</th>\n",
       "      <th>key</th>\n",
       "      <th>loudness</th>\n",
       "      <th>mode</th>\n",
       "      <th>speechiness</th>\n",
       "      <th>acousticness</th>\n",
       "      <th>instrumentalness</th>\n",
       "      <th>liveness</th>\n",
       "      <th>tempo</th>\n",
       "      <th>time_signature</th>\n",
       "      <th>track_genre</th>\n",
       "      <th>target</th>\n",
       "    </tr>\n",
       "  </thead>\n",
       "  <tbody>\n",
       "    <tr>\n",
       "      <th>113995</th>\n",
       "      <td>Rainy Lullaby</td>\n",
       "      <td>Sleep My Little Boy</td>\n",
       "      <td>21</td>\n",
       "      <td>384999</td>\n",
       "      <td>False</td>\n",
       "      <td>0.172</td>\n",
       "      <td>0.235</td>\n",
       "      <td>5</td>\n",
       "      <td>-16.393</td>\n",
       "      <td>1</td>\n",
       "      <td>0.0422</td>\n",
       "      <td>0.640</td>\n",
       "      <td>0.928</td>\n",
       "      <td>0.0863</td>\n",
       "      <td>125.995</td>\n",
       "      <td>5</td>\n",
       "      <td>world-music</td>\n",
       "      <td>lenta</td>\n",
       "    </tr>\n",
       "    <tr>\n",
       "      <th>113996</th>\n",
       "      <td>Rainy Lullaby</td>\n",
       "      <td>Water Into Light</td>\n",
       "      <td>22</td>\n",
       "      <td>385000</td>\n",
       "      <td>False</td>\n",
       "      <td>0.174</td>\n",
       "      <td>0.117</td>\n",
       "      <td>0</td>\n",
       "      <td>-18.318</td>\n",
       "      <td>0</td>\n",
       "      <td>0.0401</td>\n",
       "      <td>0.994</td>\n",
       "      <td>0.976</td>\n",
       "      <td>0.1050</td>\n",
       "      <td>85.239</td>\n",
       "      <td>4</td>\n",
       "      <td>world-music</td>\n",
       "      <td>lenta</td>\n",
       "    </tr>\n",
       "    <tr>\n",
       "      <th>113997</th>\n",
       "      <td>Cesária Evora</td>\n",
       "      <td>Miss Perfumado</td>\n",
       "      <td>22</td>\n",
       "      <td>271466</td>\n",
       "      <td>False</td>\n",
       "      <td>0.629</td>\n",
       "      <td>0.329</td>\n",
       "      <td>0</td>\n",
       "      <td>-10.895</td>\n",
       "      <td>0</td>\n",
       "      <td>0.0420</td>\n",
       "      <td>0.867</td>\n",
       "      <td>0.000</td>\n",
       "      <td>0.0839</td>\n",
       "      <td>132.378</td>\n",
       "      <td>4</td>\n",
       "      <td>world-music</td>\n",
       "      <td>agitada</td>\n",
       "    </tr>\n",
       "    <tr>\n",
       "      <th>113998</th>\n",
       "      <td>Michael W. Smith</td>\n",
       "      <td>Friends</td>\n",
       "      <td>41</td>\n",
       "      <td>283893</td>\n",
       "      <td>False</td>\n",
       "      <td>0.587</td>\n",
       "      <td>0.506</td>\n",
       "      <td>7</td>\n",
       "      <td>-10.889</td>\n",
       "      <td>1</td>\n",
       "      <td>0.0297</td>\n",
       "      <td>0.381</td>\n",
       "      <td>0.000</td>\n",
       "      <td>0.2700</td>\n",
       "      <td>135.960</td>\n",
       "      <td>4</td>\n",
       "      <td>world-music</td>\n",
       "      <td>lenta</td>\n",
       "    </tr>\n",
       "    <tr>\n",
       "      <th>113999</th>\n",
       "      <td>Cesária Evora</td>\n",
       "      <td>Barbincor</td>\n",
       "      <td>22</td>\n",
       "      <td>241826</td>\n",
       "      <td>False</td>\n",
       "      <td>0.526</td>\n",
       "      <td>0.487</td>\n",
       "      <td>1</td>\n",
       "      <td>-10.204</td>\n",
       "      <td>0</td>\n",
       "      <td>0.0725</td>\n",
       "      <td>0.681</td>\n",
       "      <td>0.000</td>\n",
       "      <td>0.0893</td>\n",
       "      <td>79.198</td>\n",
       "      <td>4</td>\n",
       "      <td>world-music</td>\n",
       "      <td>agitada</td>\n",
       "    </tr>\n",
       "  </tbody>\n",
       "</table>\n",
       "</div>"
      ],
      "text/plain": [
       "                 artists           track_name  popularity  duration_ms  \\\n",
       "113995     Rainy Lullaby  Sleep My Little Boy          21       384999   \n",
       "113996     Rainy Lullaby     Water Into Light          22       385000   \n",
       "113997     Cesária Evora       Miss Perfumado          22       271466   \n",
       "113998  Michael W. Smith              Friends          41       283893   \n",
       "113999     Cesária Evora            Barbincor          22       241826   \n",
       "\n",
       "        explicit  danceability  energy  key  loudness  mode  speechiness  \\\n",
       "113995     False         0.172   0.235    5   -16.393     1       0.0422   \n",
       "113996     False         0.174   0.117    0   -18.318     0       0.0401   \n",
       "113997     False         0.629   0.329    0   -10.895     0       0.0420   \n",
       "113998     False         0.587   0.506    7   -10.889     1       0.0297   \n",
       "113999     False         0.526   0.487    1   -10.204     0       0.0725   \n",
       "\n",
       "        acousticness  instrumentalness  liveness    tempo  time_signature  \\\n",
       "113995         0.640             0.928    0.0863  125.995               5   \n",
       "113996         0.994             0.976    0.1050   85.239               4   \n",
       "113997         0.867             0.000    0.0839  132.378               4   \n",
       "113998         0.381             0.000    0.2700  135.960               4   \n",
       "113999         0.681             0.000    0.0893   79.198               4   \n",
       "\n",
       "        track_genre   target  \n",
       "113995  world-music    lenta  \n",
       "113996  world-music    lenta  \n",
       "113997  world-music  agitada  \n",
       "113998  world-music    lenta  \n",
       "113999  world-music  agitada  "
      ]
     },
     "execution_count": 22,
     "metadata": {},
     "output_type": "execute_result"
    }
   ],
   "source": [
    "data.tail()"
   ]
  },
  {
   "cell_type": "markdown",
   "id": "bf85d942-848c-461b-b93e-eb9e483beb69",
   "metadata": {},
   "source": [
    "## Tratando variáveis categóricas 📘"
   ]
  },
  {
   "cell_type": "markdown",
   "id": "ff279327-094c-4259-bc96-c33472a4545b",
   "metadata": {},
   "source": [
    "LabelEncoder: Essa classe é utilizada para codificar rótulos de classes em números inteiros."
   ]
  },
  {
   "cell_type": "code",
   "execution_count": 25,
   "id": "55bae7cb-4ccb-491a-9045-4b55c62584da",
   "metadata": {},
   "outputs": [],
   "source": [
    "# criando lista com as colunas não numéricas\n",
    "col_cat = [col for col in data.columns.tolist() if data[col].dtype == 'object' or data[col].dtype == 'bool']"
   ]
  },
  {
   "cell_type": "code",
   "execution_count": 26,
   "id": "00258dd6-8c6b-4074-957d-540f97528520",
   "metadata": {},
   "outputs": [
    {
     "data": {
      "text/plain": [
       "['artists', 'track_name', 'explicit', 'track_genre', 'target']"
      ]
     },
     "execution_count": 26,
     "metadata": {},
     "output_type": "execute_result"
    }
   ],
   "source": [
    "col_cat"
   ]
  },
  {
   "cell_type": "code",
   "execution_count": 27,
   "id": "5117a12c-dcfd-4995-a987-1d09e7bfeb23",
   "metadata": {},
   "outputs": [
    {
     "name": "stderr",
     "output_type": "stream",
     "text": [
      "C:\\Users\\FamiliaSilva\\anaconda3\\lib\\site-packages\\scipy\\__init__.py:146: UserWarning: A NumPy version >=1.16.5 and <1.23.0 is required for this version of SciPy (detected version 1.26.4\n",
      "  warnings.warn(f\"A NumPy version >={np_minversion} and <{np_maxversion}\"\n"
     ]
    },
    {
     "data": {
      "text/html": [
       "<div>\n",
       "<style scoped>\n",
       "    .dataframe tbody tr th:only-of-type {\n",
       "        vertical-align: middle;\n",
       "    }\n",
       "\n",
       "    .dataframe tbody tr th {\n",
       "        vertical-align: top;\n",
       "    }\n",
       "\n",
       "    .dataframe thead th {\n",
       "        text-align: right;\n",
       "    }\n",
       "</style>\n",
       "<table border=\"1\" class=\"dataframe\">\n",
       "  <thead>\n",
       "    <tr style=\"text-align: right;\">\n",
       "      <th></th>\n",
       "      <th>artists</th>\n",
       "      <th>track_name</th>\n",
       "      <th>popularity</th>\n",
       "      <th>duration_ms</th>\n",
       "      <th>explicit</th>\n",
       "      <th>danceability</th>\n",
       "      <th>energy</th>\n",
       "      <th>key</th>\n",
       "      <th>loudness</th>\n",
       "      <th>mode</th>\n",
       "      <th>speechiness</th>\n",
       "      <th>acousticness</th>\n",
       "      <th>instrumentalness</th>\n",
       "      <th>liveness</th>\n",
       "      <th>tempo</th>\n",
       "      <th>time_signature</th>\n",
       "      <th>track_genre</th>\n",
       "      <th>target</th>\n",
       "    </tr>\n",
       "  </thead>\n",
       "  <tbody>\n",
       "    <tr>\n",
       "      <th>0</th>\n",
       "      <td>10357</td>\n",
       "      <td>11741</td>\n",
       "      <td>73</td>\n",
       "      <td>230666</td>\n",
       "      <td>0</td>\n",
       "      <td>0.676</td>\n",
       "      <td>0.4610</td>\n",
       "      <td>1</td>\n",
       "      <td>-6.746</td>\n",
       "      <td>0</td>\n",
       "      <td>0.1430</td>\n",
       "      <td>0.0322</td>\n",
       "      <td>0.000001</td>\n",
       "      <td>0.3580</td>\n",
       "      <td>87.917</td>\n",
       "      <td>4</td>\n",
       "      <td>0</td>\n",
       "      <td>0</td>\n",
       "    </tr>\n",
       "    <tr>\n",
       "      <th>1</th>\n",
       "      <td>3287</td>\n",
       "      <td>22528</td>\n",
       "      <td>55</td>\n",
       "      <td>149610</td>\n",
       "      <td>0</td>\n",
       "      <td>0.420</td>\n",
       "      <td>0.1660</td>\n",
       "      <td>1</td>\n",
       "      <td>-17.235</td>\n",
       "      <td>1</td>\n",
       "      <td>0.0763</td>\n",
       "      <td>0.9240</td>\n",
       "      <td>0.000006</td>\n",
       "      <td>0.1010</td>\n",
       "      <td>77.489</td>\n",
       "      <td>4</td>\n",
       "      <td>0</td>\n",
       "      <td>1</td>\n",
       "    </tr>\n",
       "    <tr>\n",
       "      <th>2</th>\n",
       "      <td>12397</td>\n",
       "      <td>60774</td>\n",
       "      <td>57</td>\n",
       "      <td>210826</td>\n",
       "      <td>0</td>\n",
       "      <td>0.438</td>\n",
       "      <td>0.3590</td>\n",
       "      <td>0</td>\n",
       "      <td>-9.734</td>\n",
       "      <td>1</td>\n",
       "      <td>0.0557</td>\n",
       "      <td>0.2100</td>\n",
       "      <td>0.000000</td>\n",
       "      <td>0.1170</td>\n",
       "      <td>76.332</td>\n",
       "      <td>4</td>\n",
       "      <td>0</td>\n",
       "      <td>1</td>\n",
       "    </tr>\n",
       "    <tr>\n",
       "      <th>3</th>\n",
       "      <td>14839</td>\n",
       "      <td>9580</td>\n",
       "      <td>71</td>\n",
       "      <td>201933</td>\n",
       "      <td>0</td>\n",
       "      <td>0.266</td>\n",
       "      <td>0.0596</td>\n",
       "      <td>0</td>\n",
       "      <td>-18.515</td>\n",
       "      <td>1</td>\n",
       "      <td>0.0363</td>\n",
       "      <td>0.9050</td>\n",
       "      <td>0.000071</td>\n",
       "      <td>0.1320</td>\n",
       "      <td>181.740</td>\n",
       "      <td>3</td>\n",
       "      <td>0</td>\n",
       "      <td>1</td>\n",
       "    </tr>\n",
       "    <tr>\n",
       "      <th>4</th>\n",
       "      <td>5255</td>\n",
       "      <td>25689</td>\n",
       "      <td>82</td>\n",
       "      <td>198853</td>\n",
       "      <td>0</td>\n",
       "      <td>0.618</td>\n",
       "      <td>0.4430</td>\n",
       "      <td>2</td>\n",
       "      <td>-9.681</td>\n",
       "      <td>1</td>\n",
       "      <td>0.0526</td>\n",
       "      <td>0.4690</td>\n",
       "      <td>0.000000</td>\n",
       "      <td>0.0829</td>\n",
       "      <td>119.949</td>\n",
       "      <td>4</td>\n",
       "      <td>0</td>\n",
       "      <td>1</td>\n",
       "    </tr>\n",
       "  </tbody>\n",
       "</table>\n",
       "</div>"
      ],
      "text/plain": [
       "   artists  track_name  popularity  duration_ms  explicit  danceability  \\\n",
       "0    10357       11741          73       230666         0         0.676   \n",
       "1     3287       22528          55       149610         0         0.420   \n",
       "2    12397       60774          57       210826         0         0.438   \n",
       "3    14839        9580          71       201933         0         0.266   \n",
       "4     5255       25689          82       198853         0         0.618   \n",
       "\n",
       "   energy  key  loudness  mode  speechiness  acousticness  instrumentalness  \\\n",
       "0  0.4610    1    -6.746     0       0.1430        0.0322          0.000001   \n",
       "1  0.1660    1   -17.235     1       0.0763        0.9240          0.000006   \n",
       "2  0.3590    0    -9.734     1       0.0557        0.2100          0.000000   \n",
       "3  0.0596    0   -18.515     1       0.0363        0.9050          0.000071   \n",
       "4  0.4430    2    -9.681     1       0.0526        0.4690          0.000000   \n",
       "\n",
       "   liveness    tempo  time_signature  track_genre  target  \n",
       "0    0.3580   87.917               4            0       0  \n",
       "1    0.1010   77.489               4            0       1  \n",
       "2    0.1170   76.332               4            0       1  \n",
       "3    0.1320  181.740               3            0       1  \n",
       "4    0.0829  119.949               4            0       1  "
      ]
     },
     "execution_count": 27,
     "metadata": {},
     "output_type": "execute_result"
    }
   ],
   "source": [
    "# função para tratar os dados categóricos e transformá-los em numéricos\n",
    "\n",
    "def label_encoder_dataframe(df, columns_to_encode):\n",
    "    from sklearn.preprocessing import LabelEncoder\n",
    "    le = LabelEncoder()\n",
    "\n",
    "    for column in columns_to_encode:\n",
    "        if column in df.columns:\n",
    "            df[column] = le.fit_transform(df[column])\n",
    "        else:\n",
    "            print('A lista possui colunas que não existem no Dataframe.')\n",
    "\n",
    "    return df\n",
    "\n",
    "label_encoder_dataframe(data, col_cat)\n",
    "data.head()\n"
   ]
  },
  {
   "cell_type": "markdown",
   "id": "16e3dde1-1783-405b-9f52-19d0ede608e4",
   "metadata": {},
   "source": [
    "## Analisando variáveis que vão compor nosso modelo 📊"
   ]
  },
  {
   "cell_type": "code",
   "execution_count": 29,
   "id": "6a464fda-512f-40ba-bd14-36f46228f4b2",
   "metadata": {},
   "outputs": [],
   "source": [
    "import seaborn as sns"
   ]
  },
  {
   "cell_type": "code",
   "execution_count": 52,
   "id": "d5cdd22a-28e3-46b0-9608-cdae1a4317af",
   "metadata": {},
   "outputs": [
    {
     "data": {
      "text/plain": [
       "<Axes: >"
      ]
     },
     "execution_count": 52,
     "metadata": {},
     "output_type": "execute_result"
    },
    {
     "data": {
      "image/png": "[encoded data removed]",
      "text/plain": [
       "<Figure size 864x720 with 2 Axes>"
      ]
     },
     "metadata": {
      "needs_background": "light"
     },
     "output_type": "display_data"
    }
   ],
   "source": [
    "fig, ax = plt.subplots(figsize=(12, 10))\n",
    "\n",
    "corr_data = data.corr().round(2)\n",
    "sns.heatmap(data= corr_data, annot=True, linewidths=1.5, ax=ax, cmap=\"coolwarm\")\n"
   ]
  },
  {
   "cell_type": "markdown",
   "id": "fc687e78-c320-4615-b8b2-9c180b2d9f20",
   "metadata": {},
   "source": [
    "## Análise Exploratória 📈"
   ]
  },
  {
   "cell_type": "code",
   "execution_count": 361,
   "id": "3c9e32a4-d6ec-44d7-9d08-3afcda34282f",
   "metadata": {},
   "outputs": [
    {
     "data": {
      "text/plain": [
       "1    54.25\n",
       "0    45.75\n",
       "Name: target, dtype: float64"
      ]
     },
     "execution_count": 361,
     "metadata": {},
     "output_type": "execute_result"
    }
   ],
   "source": [
    "# verificando a distrubuição de valores na coluna target\n",
    "round(data['target'].value_counts(normalize=True) * 100, 2)"
   ]
  },
  {
   "cell_type": "code",
   "execution_count": 369,
   "id": "960db28e-ed6a-4f93-a68c-919e5f132905",
   "metadata": {},
   "outputs": [
    {
     "data": {
      "text/plain": [
       "{'agitada', 'lenta'}"
      ]
     },
     "execution_count": 369,
     "metadata": {},
     "output_type": "execute_result"
    }
   ],
   "source": [
    "set(df['target'])"
   ]
  },
  {
   "cell_type": "code",
   "execution_count": 365,
   "id": "9579e6ce-db71-4cba-8ac8-9dc3dba59668",
   "metadata": {},
   "outputs": [
    {
     "data": {
      "text/plain": [
       "{0, 1}"
      ]
     },
     "execution_count": 365,
     "metadata": {},
     "output_type": "execute_result"
    }
   ],
   "source": [
    "set(data['target'])"
   ]
  },
  {
   "cell_type": "code",
   "execution_count": 69,
   "id": "4feacb58-d61c-4168-80ff-dc73a93f7468",
   "metadata": {},
   "outputs": [
    {
     "data": {
      "image/png": "[encoded data removed]",
      "text/plain": [
       "<Figure size 432x288 with 1 Axes>"
      ]
     },
     "metadata": {
      "needs_background": "light"
     },
     "output_type": "display_data"
    }
   ],
   "source": [
    "plt.figsize=(8, 6)\n",
    "\n",
    "sns.histplot(data= data, x='duration_ms', bins=10)\n",
    "plt.title('Distribuição da duração')\n",
    "plt.xlabel('Duração')\n",
    "plt.ylabel('Frequência')\n",
    "plt.show()"
   ]
  },
  {
   "cell_type": "code",
   "execution_count": 73,
   "id": "b14ddc01-02d8-4fe0-b938-934e3be62d6f",
   "metadata": {},
   "outputs": [
    {
     "data": {
      "image/png": "[encoded data removed]",
      "text/plain": [
       "<Figure size 432x288 with 1 Axes>"
      ]
     },
     "metadata": {
      "needs_background": "light"
     },
     "output_type": "display_data"
    }
   ],
   "source": [
    "plt.figsize=(8, 6)\n",
    "\n",
    "sns.histplot(data= data, x='danceability', bins=10)\n",
    "plt.title('Distribuição da danceabilidade')\n",
    "plt.xlabel('Duração')\n",
    "plt.ylabel('Frequência')\n",
    "plt.show()"
   ]
  },
  {
   "cell_type": "code",
   "execution_count": 81,
   "id": "ec8201dd-34ff-4ea3-a3f8-52b4a17998cd",
   "metadata": {},
   "outputs": [
    {
     "data": {
      "image/png": "[encoded data removed]",
      "text/plain": [
       "<Figure size 432x288 with 1 Axes>"
      ]
     },
     "metadata": {
      "needs_background": "light"
     },
     "output_type": "display_data"
    }
   ],
   "source": [
    "plt.figsize=(8, 6)\n",
    "\n",
    "sns.boxplot(data= data, x='danceability')\n",
    "plt.title('Distribuição da danceabilidade')\n",
    "plt.xlabel('Danceabilidade')\n",
    "\n",
    "plt.show()"
   ]
  },
  {
   "cell_type": "code",
   "execution_count": 85,
   "id": "2c978b28-dde7-42ef-bde1-2129b445a7e4",
   "metadata": {},
   "outputs": [
    {
     "data": {
      "image/png": "[encoded data removed]",
      "text/plain": [
       "<Figure size 432x288 with 1 Axes>"
      ]
     },
     "metadata": {
      "needs_background": "light"
     },
     "output_type": "display_data"
    }
   ],
   "source": [
    "plt.figsize=(8, 6)\n",
    "\n",
    "sns.histplot(data= data, x='energy', bins=10)\n",
    "plt.title('Distribuição da danceabilidade')\n",
    "plt.xlabel('energy')\n",
    "plt.ylabel('Frequência')\n",
    "plt.show()"
   ]
  },
  {
   "cell_type": "code",
   "execution_count": 89,
   "id": "be093251-f584-456d-a6a7-4b057b2bce46",
   "metadata": {},
   "outputs": [
    {
     "data": {
      "image/png": "[encoded data removed]",
      "text/plain": [
       "<Figure size 432x288 with 1 Axes>"
      ]
     },
     "metadata": {
      "needs_background": "light"
     },
     "output_type": "display_data"
    }
   ],
   "source": [
    "plt.figsize=(8, 6)\n",
    "\n",
    "sns.boxplot(data= data, x='energy')\n",
    "plt.title('Distribuição da energia')\n",
    "plt.xlabel('Energia')\n",
    "\n",
    "plt.show()"
   ]
  },
  {
   "cell_type": "code",
   "execution_count": 99,
   "id": "8eee4c4a-2e17-4bae-b183-132a1006c3ad",
   "metadata": {},
   "outputs": [
    {
     "data": {
      "image/png": "[encoded data removed]",
      "text/plain": [
       "<Figure size 432x288 with 1 Axes>"
      ]
     },
     "metadata": {
      "needs_background": "light"
     },
     "output_type": "display_data"
    }
   ],
   "source": [
    "plt.figsize=(8, 6)\n",
    "\n",
    "sns.histplot(data= data, x='loudness', bins=10)\n",
    "plt.title('Distribuição da loudness')\n",
    "plt.xlabel('Loudness')\n",
    "plt.ylabel('Frequência')\n",
    "plt.show()"
   ]
  },
  {
   "cell_type": "code",
   "execution_count": 105,
   "id": "a6a08930-dbe3-4c2d-b881-4728c7ab67a2",
   "metadata": {},
   "outputs": [
    {
     "data": {
      "image/png": "[encoded data removed]",
      "text/plain": [
       "<Figure size 432x288 with 1 Axes>"
      ]
     },
     "metadata": {
      "needs_background": "light"
     },
     "output_type": "display_data"
    }
   ],
   "source": [
    "plt.figsize=(8, 6)\n",
    "\n",
    "sns.boxplot(data= data, x='loudness')\n",
    "plt.title('loudness')\n",
    "plt.xlabel('Loudness')\n",
    "\n",
    "plt.show()"
   ]
  },
  {
   "cell_type": "code",
   "execution_count": 107,
   "id": "b9272e98-0f28-4433-bd5f-8d619f898f3e",
   "metadata": {},
   "outputs": [
    {
     "data": {
      "image/png": "[encoded data removed]",
      "text/plain": [
       "<Figure size 432x288 with 1 Axes>"
      ]
     },
     "metadata": {
      "needs_background": "light"
     },
     "output_type": "display_data"
    }
   ],
   "source": [
    "plt.figsize=(8, 6)\n",
    "\n",
    "sns.histplot(data= data, x='instrumentalness', bins=10)\n",
    "plt.title('Distribuição da duração')\n",
    "plt.xlabel('Duração')\n",
    "plt.ylabel('Frequência')\n",
    "plt.show()"
   ]
  },
  {
   "cell_type": "code",
   "execution_count": 111,
   "id": "44f19193-9e44-46d0-b75c-38757d6cdff9",
   "metadata": {},
   "outputs": [
    {
     "data": {
      "image/png": "[encoded data removed]",
      "text/plain": [
       "<Figure size 432x288 with 1 Axes>"
      ]
     },
     "metadata": {
      "needs_background": "light"
     },
     "output_type": "display_data"
    }
   ],
   "source": [
    "plt.figsize=(8, 6)\n",
    "\n",
    "sns.boxplot(data= data, x='instrumentalness')\n",
    "plt.title('loudness')\n",
    "plt.xlabel('Loudness')\n",
    "\n",
    "plt.show()"
   ]
  },
  {
   "cell_type": "code",
   "execution_count": 119,
   "id": "3d25b405-5adc-491e-86f0-653f7d66b672",
   "metadata": {},
   "outputs": [
    {
     "data": {
      "image/png": "[encoded data removed]",
      "text/plain": [
       "<Figure size 432x288 with 1 Axes>"
      ]
     },
     "metadata": {
      "needs_background": "light"
     },
     "output_type": "display_data"
    }
   ],
   "source": [
    "plt.figsize=(8, 6)\n",
    "\n",
    "sns.histplot(data= data, x='time_signature', bins=10)\n",
    "plt.title('Distribuição da duração')\n",
    "plt.xlabel('Duração')\n",
    "plt.ylabel('Frequência')\n",
    "plt.show()"
   ]
  },
  {
   "cell_type": "code",
   "execution_count": 121,
   "id": "c0a306be-d253-4986-b061-10aec071d775",
   "metadata": {},
   "outputs": [
    {
     "data": {
      "image/png": "[encoded data removed]",
      "text/plain": [
       "<Figure size 432x288 with 1 Axes>"
      ]
     },
     "metadata": {
      "needs_background": "light"
     },
     "output_type": "display_data"
    }
   ],
   "source": [
    "plt.figsize=(8, 6)\n",
    "\n",
    "sns.boxplot(data= data, x='time_signature')\n",
    "plt.title('loudness')\n",
    "plt.xlabel('Loudness')\n",
    "\n",
    "plt.show()"
   ]
  },
  {
   "cell_type": "markdown",
   "id": "01fcb022-1f73-4b41-acbd-27ec8ffd7912",
   "metadata": {},
   "source": [
    "## Separando o Dataset em treino e teste 🎾"
   ]
  },
  {
   "cell_type": "code",
   "execution_count": 321,
   "id": "0ba68420-7dc9-4d17-b114-cb91d6e232f9",
   "metadata": {},
   "outputs": [],
   "source": [
    "# Colunas selecionadas no modelo\n",
    "col_model = ['duration_ms', 'danceability', 'energy', 'loudness', 'instrumentalness', 'time_signature', 'track_genre']"
   ]
  },
  {
   "cell_type": "code",
   "execution_count": 323,
   "id": "5cb2f0ac-c5be-457b-9e16-e9b5e1871434",
   "metadata": {},
   "outputs": [],
   "source": [
    "X = data[col_model]"
   ]
  },
  {
   "cell_type": "code",
   "execution_count": 325,
   "id": "5a3b04ee-e561-4386-94cb-f3f5f82133ab",
   "metadata": {},
   "outputs": [],
   "source": [
    "y = data['target'].copy()"
   ]
  },
  {
   "cell_type": "code",
   "execution_count": 327,
   "id": "a1486ed2-7d0e-4bf1-ad47-aba090bf9091",
   "metadata": {},
   "outputs": [],
   "source": [
    "# Separando o dataset em treino e teste\n",
    "from sklearn.model_selection import train_test_split\n",
    "X_train, X_test, y_train, y_test = train_test_split(X, y, test_size= 0.2, stratify=y, random_state=42)"
   ]
  },
  {
   "cell_type": "code",
   "execution_count": 329,
   "id": "854a07fb-954a-48c5-9560-28145e284bdc",
   "metadata": {},
   "outputs": [
    {
     "name": "stdout",
     "output_type": "stream",
     "text": [
      "(91199, 7) (22800, 7)\n"
     ]
    }
   ],
   "source": [
    "print(X_train.shape, X_test.shape)"
   ]
  },
  {
   "cell_type": "markdown",
   "id": "792d42d3-4c4c-4d9c-b7ea-e2216e99faf4",
   "metadata": {},
   "source": [
    "## Normalizando os dados 📏"
   ]
  },
  {
   "cell_type": "code",
   "execution_count": 343,
   "id": "602b0363-514d-4550-aff6-63f1450d53d6",
   "metadata": {},
   "outputs": [],
   "source": [
    "# normalizando os dados numéricos\n",
    "from sklearn.preprocessing import MinMaxScaler\n",
    "\n",
    "scaler= MinMaxScaler()\n",
    "scaler.fit(X_train)\n",
    "\n",
    "X_train_escalonado = scaler.transform(X_train)\n",
    "X_test_escalonado = scaler.transform(X_test)"
   ]
  },
  {
   "cell_type": "markdown",
   "id": "7f07767b-6e84-46b4-a57c-820de1404c4e",
   "metadata": {},
   "source": [
    "## Criando função para executar modelos de ML 🚀"
   ]
  },
  {
   "cell_type": "code",
   "execution_count": 295,
   "id": "67496349-f51c-4019-8654-df00901e03e2",
   "metadata": {},
   "outputs": [],
   "source": [
    "def roda_modelo(modelo):\n",
    "    from sklearn.metrics import roc_curve, roc_auc_score, classification_report, plot_confusion_matrix\n",
    "\n",
    "    # treinando modelo com os dados de treino\n",
    "    modelo.fit(X_train_escalonado, y_train)\n",
    "\n",
    "\n",
    "    # Calculando probabilidade\n",
    "    prob_predict = modelo.predict_proba(X_test_escalonado)\n",
    "    auc = roc_auc_score(y_test, prob_predict[:,1])\n",
    "    print(f'AUC {auc}')\n",
    "\n",
    "    predicao = modelo.predict(X_test_escalonado)\n",
    "    print('\\nClassification Report')\n",
    "    print(classification_report(y_test, predicao))\n",
    "\n",
    "    print('\\nCurve Roc')\n",
    "    y_pred_probs = modelo.predict_proba(X_test_escalonado)[:,1]\n",
    "\n",
    "    fpr, tpr, thresholds = roc_curve(y_test, y_pred_probs)\n",
    "\n",
    "    auc = roc_auc_score(y_test, y_pred_probs)\n",
    "\n",
    "    plt.figure(figsize=(8, 6))\n",
    "    plt.plot(fpr, tpr, color='blue', label=f'Roc curve (AUC= {auc:.2f})')\n",
    "\n",
    "    print('\\nMatrix de Confusão')\n",
    "    conf_matrix = confusion_matrix(y_test, predicao)\n",
    "    print(conf_matrix)"
   ]
  },
  {
   "cell_type": "markdown",
   "id": "b48ebcc8-54a9-423f-bdf8-d0758bd892b3",
   "metadata": {},
   "source": [
    "## Regressão Logistica"
   ]
  },
  {
   "cell_type": "code",
   "execution_count": 333,
   "id": "bf9aabc8-bdde-4e9e-b387-2514b9c42ebb",
   "metadata": {},
   "outputs": [
    {
     "name": "stdout",
     "output_type": "stream",
     "text": [
      "AUC 0.784403379034577\n",
      "\n",
      "Classification Report\n",
      "              precision    recall  f1-score   support\n",
      "\n",
      "           0       0.69      0.69      0.69     10430\n",
      "           1       0.74      0.74      0.74     12370\n",
      "\n",
      "    accuracy                           0.71     22800\n",
      "   macro avg       0.71      0.71      0.71     22800\n",
      "weighted avg       0.71      0.71      0.71     22800\n",
      "\n",
      "\n",
      "Curve Roc\n",
      "\n",
      "Matrix de Confusão\n",
      "[[7183 3247]\n",
      " [3269 9101]]\n"
     ]
    },
    {
     "data": {
      "image/png": "[encoded data removed]",
      "text/plain": [
       "<Figure size 576x432 with 1 Axes>"
      ]
     },
     "metadata": {
      "needs_background": "light"
     },
     "output_type": "display_data"
    }
   ],
   "source": [
    "from sklearn.linear_model import LogisticRegression\n",
    "modelo_logistico = LogisticRegression()\n",
    "roda_modelo(modelo_logistico)"
   ]
  },
  {
   "cell_type": "markdown",
   "id": "11cf868a-c956-412b-9435-6fba21cc55bb",
   "metadata": {},
   "source": [
    "## KNN k-Nearest Neighbors"
   ]
  },
  {
   "cell_type": "code",
   "execution_count": 335,
   "id": "31376af3-c3aa-49bd-bcbc-9a1096069fc2",
   "metadata": {},
   "outputs": [
    {
     "name": "stdout",
     "output_type": "stream",
     "text": [
      "AUC 0.806883395559262\n",
      "\n",
      "Classification Report\n",
      "              precision    recall  f1-score   support\n",
      "\n",
      "           0       0.73      0.72      0.72     10430\n",
      "           1       0.76      0.78      0.77     12370\n",
      "\n",
      "    accuracy                           0.75     22800\n",
      "   macro avg       0.75      0.75      0.75     22800\n",
      "weighted avg       0.75      0.75      0.75     22800\n",
      "\n",
      "\n",
      "Curve Roc\n",
      "\n",
      "Matrix de Confusão\n",
      "[[7460 2970]\n",
      " [2771 9599]]\n"
     ]
    },
    {
     "data": {
      "image/png": "[encoded data removed]",
      "text/plain": [
       "<Figure size 576x432 with 1 Axes>"
      ]
     },
     "metadata": {
      "needs_background": "light"
     },
     "output_type": "display_data"
    }
   ],
   "source": [
    "from sklearn.neighbors import KNeighborsClassifier\n",
    "modelo_knn = KNeighborsClassifier(n_neighbors=3)\n",
    "roda_modelo(modelo_knn)"
   ]
  },
  {
   "cell_type": "markdown",
   "id": "f890d860-f948-4ff2-b064-f45f120d530a",
   "metadata": {},
   "source": [
    "## Random Florest"
   ]
  },
  {
   "cell_type": "code",
   "execution_count": 308,
   "id": "dcfeb291-0c1b-46bc-aeb7-1fcf306d9642",
   "metadata": {},
   "outputs": [
    {
     "name": "stdout",
     "output_type": "stream",
     "text": [
      "AUC 0.8942770295250858\n",
      "\n",
      "Classification Report\n",
      "              precision    recall  f1-score   support\n",
      "\n",
      "           0       0.80      0.79      0.79     10430\n",
      "           1       0.82      0.83      0.83     12370\n",
      "\n",
      "    accuracy                           0.81     22800\n",
      "   macro avg       0.81      0.81      0.81     22800\n",
      "weighted avg       0.81      0.81      0.81     22800\n",
      "\n",
      "\n",
      "Curve Roc\n",
      "\n",
      "Matrix de Confusão\n",
      "[[ 8194  2236]\n",
      " [ 2091 10279]]\n"
     ]
    },
    {
     "data": {
      "image/png": "[encoded data removed]",
      "text/plain": [
       "<Figure size 576x432 with 1 Axes>"
      ]
     },
     "metadata": {
      "needs_background": "light"
     },
     "output_type": "display_data"
    }
   ],
   "source": [
    "from sklearn.ensemble import RandomForestClassifier\n",
    "modelo_random_forest = RandomForestClassifier(max_depth=70, n_estimators=400, max_features='auto', min_samples_leaf= 4,\n",
    " min_samples_split= 10, bootstrap=True)\n",
    "roda_modelo(modelo_random_forest)"
   ]
  },
  {
   "cell_type": "markdown",
   "id": "aacab016-67fd-4779-b734-22314025735e",
   "metadata": {},
   "source": [
    "## Grid Search 📖"
   ]
  },
  {
   "cell_type": "markdown",
   "id": "b50b91d4-0d92-47e0-8a38-ce62c9d72970",
   "metadata": {},
   "source": [
    "Grid Search é uma abordagem sistemática para encontrar a melhor combinação de hiperparâmetros em modelos de machine learning."
   ]
  },
  {
   "cell_type": "code",
   "execution_count": 310,
   "id": "7f9057c8-b941-4b83-b90a-ce13650963a3",
   "metadata": {},
   "outputs": [
    {
     "name": "stdout",
     "output_type": "stream",
     "text": [
      "melhores hiperparamegtros, {'max_depth': 60, 'min_samples_leaf': 4, 'min_samples_split': 8, 'n_estimators': 400}\n"
     ]
    }
   ],
   "source": [
    "from sklearn.model_selection import GridSearchCV\n",
    "\n",
    "param_grid = {'max_depth': [60, 70, 80], 'n_estimators': [300, 400, 500], 'min_samples_leaf':[4, 5, 6], 'min_samples_split': [8, 10, 12]}\n",
    "\n",
    "grid_search = GridSearchCV(RandomForestClassifier(), param_grid, cv=5, scoring='f1', n_jobs=1)\n",
    "\n",
    "grid_search.fit(X_train_escalonado, y_train)\n",
    "\n",
    "rf_params = grid_search.best_params_\n",
    "print(f'melhores hiperparamegtros, {rf_params}')\n",
    "\n"
   ]
  },
  {
   "cell_type": "markdown",
   "id": "5fd68f19-ace1-4ffb-a148-c3de34bc4a7e",
   "metadata": {},
   "source": [
    "### Modelo com os parâmetros encontrados"
   ]
  },
  {
   "cell_type": "code",
   "execution_count": 337,
   "id": "8c8130f7-3ebf-4e16-bcaf-dd99d4aa7112",
   "metadata": {},
   "outputs": [
    {
     "name": "stdout",
     "output_type": "stream",
     "text": [
      "AUC 0.8979990947076828\n",
      "\n",
      "Classification Report\n",
      "              precision    recall  f1-score   support\n",
      "\n",
      "           0       0.80      0.79      0.80     10430\n",
      "           1       0.83      0.83      0.83     12370\n",
      "\n",
      "    accuracy                           0.81     22800\n",
      "   macro avg       0.81      0.81      0.81     22800\n",
      "weighted avg       0.81      0.81      0.81     22800\n",
      "\n",
      "\n",
      "Curve Roc\n",
      "\n",
      "Matrix de Confusão\n",
      "[[ 8254  2176]\n",
      " [ 2064 10306]]\n"
     ]
    },
    {
     "data": {
      "image/png": "[encoded data removed]",
      "text/plain": [
       "<Figure size 576x432 with 1 Axes>"
      ]
     },
     "metadata": {
      "needs_background": "light"
     },
     "output_type": "display_data"
    }
   ],
   "source": [
    "random_forest_classifier_gs = RandomForestClassifier(max_depth= 60, n_estimators= 400, min_samples_leaf= 4, min_samples_split= 8, random_state=42)\n",
    "roda_modelo(random_forest_classifier_gs)"
   ]
  },
  {
   "cell_type": "markdown",
   "id": "3dc8fb65-ad8b-4adb-8887-5887d2d97336",
   "metadata": {},
   "source": [
    "## Testando o modelo 🫣"
   ]
  },
  {
   "cell_type": "code",
   "execution_count": 347,
   "id": "42a1fb20-c137-43a5-bb5d-fe03d51c9c58",
   "metadata": {},
   "outputs": [
    {
     "data": {
      "text/html": [
       "<div>\n",
       "<style scoped>\n",
       "    .dataframe tbody tr th:only-of-type {\n",
       "        vertical-align: middle;\n",
       "    }\n",
       "\n",
       "    .dataframe tbody tr th {\n",
       "        vertical-align: top;\n",
       "    }\n",
       "\n",
       "    .dataframe thead th {\n",
       "        text-align: right;\n",
       "    }\n",
       "</style>\n",
       "<table border=\"1\" class=\"dataframe\">\n",
       "  <thead>\n",
       "    <tr style=\"text-align: right;\">\n",
       "      <th></th>\n",
       "      <th>duration_ms</th>\n",
       "      <th>danceability</th>\n",
       "      <th>energy</th>\n",
       "      <th>loudness</th>\n",
       "      <th>instrumentalness</th>\n",
       "      <th>time_signature</th>\n",
       "      <th>track_genre</th>\n",
       "      <th>target</th>\n",
       "    </tr>\n",
       "  </thead>\n",
       "  <tbody>\n",
       "    <tr>\n",
       "      <th>0</th>\n",
       "      <td>200000</td>\n",
       "      <td>0.89</td>\n",
       "      <td>0.8</td>\n",
       "      <td>-19333</td>\n",
       "      <td>0.976</td>\n",
       "      <td>4</td>\n",
       "      <td>rock</td>\n",
       "      <td>Música agitada</td>\n",
       "    </tr>\n",
       "    <tr>\n",
       "      <th>1</th>\n",
       "      <td>205000</td>\n",
       "      <td>0.20</td>\n",
       "      <td>0.5</td>\n",
       "      <td>-11773</td>\n",
       "      <td>0.452</td>\n",
       "      <td>3</td>\n",
       "      <td>folk</td>\n",
       "      <td>Música lenta</td>\n",
       "    </tr>\n",
       "  </tbody>\n",
       "</table>\n",
       "</div>"
      ],
      "text/plain": [
       "   duration_ms  danceability  energy  loudness  instrumentalness  \\\n",
       "0       200000          0.89     0.8    -19333             0.976   \n",
       "1       205000          0.20     0.5    -11773             0.452   \n",
       "\n",
       "   time_signature track_genre          target  \n",
       "0               4        rock  Música agitada  \n",
       "1               3        folk    Música lenta  "
      ]
     },
     "execution_count": 347,
     "metadata": {},
     "output_type": "execute_result"
    }
   ],
   "source": [
    "import numpy as np\n",
    "\n",
    "novos_dados = pd.read_excel('novos_dados.xlsx')\n",
    "base_original = pd.read_excel('novos_dados.xlsx')\n",
    "\n",
    "# criando a pipeline\n",
    "coluna = ['track_genre']\n",
    "label_encoder_dataframe(novos_dados, coluna)\n",
    "novos_dados = scaler.transform(novos_dados)\n",
    "\n",
    "previsoes = random_forest_classifier_gs.predict(novos_dados)\n",
    "\n",
    "# obtendo previsoes\n",
    "def mapear_valor(valores):\n",
    "    resultados = []\n",
    "    for valor in valores:\n",
    "        if valor == 0:\n",
    "            resultados.append('Música agitada')\n",
    "        elif valor == 1:\n",
    "            resultados.append('Música lenta')\n",
    "        else:\n",
    "            resultados.append('Desconhecidos')\n",
    "    return np.array(resultados)\n",
    "\n",
    "base_original['target'] = mapear_valor(previsoes)\n",
    "base_original.head()\n",
    "\n"
   ]
  }
 ],
 "metadata": {
  "kernelspec": {
   "display_name": "Python 3 (ipykernel)",
   "language": "python",
   "name": "python3"
  },
  "language_info": {
   "codemirror_mode": {
    "name": "ipython",
    "version": 3
   },
   "file_extension": ".py",
   "mimetype": "text/x-python",
   "name": "python",
   "nbconvert_exporter": "python",
   "pygments_lexer": "ipython3",
   "version": "3.9.19"
  }
 },
 "nbformat": 4,
 "nbformat_minor": 5
}
